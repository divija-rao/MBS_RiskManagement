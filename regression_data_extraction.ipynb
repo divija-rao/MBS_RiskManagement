{
 "cells": [
  {
   "cell_type": "markdown",
   "id": "dae92adb",
   "metadata": {},
   "source": [
    "Based on the Origination Data File and Monthly Performance Data File schemas:\n",
    "\n",
    "Target Variable (to be derived):\n",
    "\n",
    "- Current Loan Delinquency Status: The number of days the borrower is delinquent in making loan payments as of the end of the monthly reporting period. Used to derive the target (e.g., delinquent if >0). Guide notes: 0 = Current, 1 = 30-59 days, 2 = 60-89 days, ..., RA = Repayment Plan, RF = REO, 999 = Unknown.\n",
    "\n",
    "\n",
    "Predictor Variables (Features):\n",
    "\n",
    "From Origination Data:\n",
    "\n",
    "- Credit Score: The standardized credit score used to evaluate the borrower during the loan origination process. Lower scores indicate higher risk. Guide notes: FICO score, masked as 300 for <300, 850 for >850, or 9999 for missing.\n",
    "- Original Loan-to-Value (LTV): The ratio of the original loan amount to the property value at origination. Higher ratios increase default risk. Guide notes: Rounded to nearest integer, 999 for missing.\n",
    "- Original Combined Loan-to-Value (CLTV): The ratio of the original loan amount and any subordinate lien amount to the property value at origination. Higher ratios increase default risk. Guide notes: Rounded to nearest integer, 999 for missing.\n",
    "- Original Debt-to-Income (DTI) Ratio: The ratio of the borrower's total monthly debt payments to gross monthly income at origination. Higher DTI suggests financial strain. Guide notes: Rounded to nearest integer, 999 for missing or not considered.\n",
    "- Original Interest Rate: The interest rate on the loan as stated on the note at the time the loan was originated. Higher rates may lead to higher payments and defaults. Guide notes: Reported to the nearest eighth of a percent.\n",
    "- Original Loan Term: The number of months in which the loan is scheduled to be repaid. Longer terms may reduce monthly payments but increase long-term risk. Guide notes: In months, e.g., 360 for 30-year loans.\n",
    "- Number of Borrowers: The number of borrowers who are obligated to repay the mortgage note. Multiple borrowers may reduce risk. Guide notes: 99 for missing.\n",
    "- Property State: The two-letter postal abbreviation for the state in which the property is located. Captures regional economic factors. Guide notes: U.S. states only.\n",
    "- Occupancy Status: The classification for the property occupancy status at the time the loan was originated. Investment properties have higher risk. Guide notes: O = Owner Occupied, S = Second Home, I = Investment Property, 9 = Unknown.\n",
    "\n",
    "\n",
    "From Performance Data:\n",
    "\n",
    "- Loan Age: The number of scheduled monthly payments that have elapsed since the loan was originated. Helps capture loan seasoning. Guide notes: In months, 999 for missing.\n",
    "- Remaining Months to Legal Maturity: The number of months remaining until the loan is scheduled to mature. Shorter terms may indicate higher risk near maturity. Guide notes: In months, 999 for missing.\n",
    "- Current Actual UPB: The unpaid principal balance of the loan as of the end of the monthly reporting period. Higher UPB may correlate with defaults. Guide notes: Rounded to nearest $1,000, 000000 for zero balance.\n",
    "- Current Interest Rate: The interest rate on the loan as of the end of the monthly reporting period. Adjustments can affect affordability. Guide notes: Reported to the nearest eighth of a percent, 99.999 for missing.\n",
    "\n",
    "\n",
    "Rationale for Selection: \n",
    "\n",
    "These variables cover borrower creditworthiness, loan affordability, property details, and ongoing performance, which are key drivers of default risk. The target is derived from 'Current Loan Delinquency Status' as a binary flag (1 for delinquent, 0 for current).\n",
    "\n",
    "\n",
    "Key Identifiers:\n",
    "\n",
    "- Loan Sequence Number: A unique identifier for each loan, critical for merging and tracking across origination and performance data. Guide notes: 12-character alphanumeric, masked for privacy.\n",
    "- Original Loan-to-Value (LTV): The ratio of the original loan amount to the property value at origination, providing additional context to Original Combined Loan-to-Value (CLTV). Guide notes: Rounded to nearest integer, 999 for missing.\n",
    "- First Payment Date: The date of the first scheduled payment, offering a temporal anchor for loan age and performance. Guide notes: Format YYYYMMDD, parsed as datetime64[ns]."
   ]
  },
  {
   "cell_type": "code",
   "execution_count": 42,
   "id": "a907d93a",
   "metadata": {},
   "outputs": [],
   "source": [
    "import pandas as pd\n",
    "import os\n",
    "from pathlib import Path"
   ]
  },
  {
   "cell_type": "code",
   "execution_count": 43,
   "id": "535cda4b",
   "metadata": {},
   "outputs": [],
   "source": [
    "# Set up file paths\n",
    "mbs_risk_path = Path('/Users/dr/Documents/GitHub/MBS_RiskManagement')\n",
    "data_path = mbs_risk_path / 'data' / 'extracted_data' / 'splits'"
   ]
  },
  {
   "cell_type": "code",
   "execution_count": 44,
   "id": "340215f0",
   "metadata": {},
   "outputs": [],
   "source": [
    "# Input files\n",
    "split_files = [\n",
    "    data_path / 'merged_loans_part_1.csv',\n",
    "    data_path / 'merged_loans_part_2.csv', \n",
    "    data_path / 'merged_loans_part_3.csv'\n",
    "]"
   ]
  },
  {
   "cell_type": "code",
   "execution_count": 45,
   "id": "fb07b0a9",
   "metadata": {},
   "outputs": [],
   "source": [
    "# Output file\n",
    "output_file = mbs_risk_path / 'regression_data.csv'"
   ]
  },
  {
   "cell_type": "code",
   "execution_count": 46,
   "id": "b735591e",
   "metadata": {},
   "outputs": [],
   "source": [
    "# Selected columns for logistic regression (from origination and performance data)\n",
    "selected_columns = [\n",
    "    'Loan Sequence Number', 'Credit Score', 'Original Combined Loan-to-Value (CLTV)', \n",
    "    'Original Loan-to-Value (LTV)', 'Original Debt-to-Income (DTI) Ratio', 'Original Interest Rate', \n",
    "    'Original Loan Term', 'Number of Borrowers', 'Property State', 'Occupancy Status', \n",
    "    'Loan Age', 'Remaining Months to Legal Maturity', 'Current Actual UPB', \n",
    "    'Current Interest Rate', 'Current Loan Delinquency Status', 'First Payment Date', 'Maturity Date'\n",
    "]"
   ]
  },
  {
   "cell_type": "code",
   "execution_count": 47,
   "id": "40e4a5aa",
   "metadata": {},
   "outputs": [],
   "source": [
    "# Define data types for proper parsing\n",
    "dtypes = {\n",
    "    'Loan Sequence Number': 'object',\n",
    "    'Credit Score': 'Int64',\n",
    "    'Original Combined Loan-to-Value (CLTV)': 'Int64',\n",
    "    'Original Loan-to-Value (LTV)': 'Int64', \n",
    "    'Original Debt-to-Income (DTI) Ratio': 'Int64',\n",
    "    'Original Interest Rate': 'float64',\n",
    "    'Original Loan Term': 'Int64',\n",
    "    'Number of Borrowers': 'Int64',\n",
    "    'Property State': 'object',\n",
    "    'Occupancy Status': 'object',\n",
    "    'Loan Age': 'Int64',\n",
    "    'Remaining Months to Legal Maturity': 'Int64',\n",
    "    'Current Actual UPB': 'float64',\n",
    "    'Current Interest Rate': 'float64',\n",
    "    'Current Loan Delinquency Status': 'object'\n",
    "}"
   ]
  },
  {
   "cell_type": "code",
   "execution_count": 48,
   "id": "038ff9b9",
   "metadata": {},
   "outputs": [],
   "source": [
    "# Date columns to parse\n",
    "date_columns = ['First Payment Date', 'Maturity Date']"
   ]
  },
  {
   "cell_type": "code",
   "execution_count": 49,
   "id": "1428f9b6",
   "metadata": {},
   "outputs": [
    {
     "name": "stdout",
     "output_type": "stream",
     "text": [
      "Starting to extract and consolidate logistic regression data from split files...\n"
     ]
    }
   ],
   "source": [
    "print(\"Starting to extract and consolidate logistic regression data from split files...\")"
   ]
  },
  {
   "cell_type": "code",
   "execution_count": 50,
   "id": "acf8f7db",
   "metadata": {},
   "outputs": [
    {
     "name": "stdout",
     "output_type": "stream",
     "text": [
      "Processing file 1/3: merged_loans_part_1.csv\n",
      "  ✗ File not found: /Users/dr/Documents/GitHub/MBS_RiskManagement/data/extracted_data/splits/merged_loans_part_1.csv\n",
      "Processing file 2/3: merged_loans_part_2.csv\n",
      "  ✗ File not found: /Users/dr/Documents/GitHub/MBS_RiskManagement/data/extracted_data/splits/merged_loans_part_2.csv\n",
      "Processing file 3/3: merged_loans_part_3.csv\n",
      "  ✗ File not found: /Users/dr/Documents/GitHub/MBS_RiskManagement/data/extracted_data/splits/merged_loans_part_3.csv\n"
     ]
    }
   ],
   "source": [
    "# Read all split files, extracting only the selected columns\n",
    "all_data_frames = []\n",
    "\n",
    "for i, file_path in enumerate(split_files, 1):\n",
    "    print(f\"Processing file {i}/3: {file_path.name}\")\n",
    "    \n",
    "    try:\n",
    "        # Check if file exists\n",
    "        if not file_path.exists():\n",
    "            print(f\"  ✗ File not found: {file_path}\")\n",
    "            continue\n",
    "            \n",
    "        # Read CSV with specified dtypes and date parsing\n",
    "        df = pd.read_csv(\n",
    "            file_path,\n",
    "            usecols=lambda x: x in selected_columns,  # Only read needed columns\n",
    "            dtype=dtypes,\n",
    "            parse_dates=date_columns,\n",
    "            infer_datetime_format=True,\n",
    "            low_memory=False\n",
    "        )\n",
    "        \n",
    "        print(f\"  ✓ Successfully read {len(df):,} rows with {len(df.columns)} selected columns\")\n",
    "        \n",
    "        # Check for missing columns\n",
    "        missing_cols = set(selected_columns) - set(df.columns)\n",
    "        if missing_cols:\n",
    "            print(f\"  ⚠ Missing columns in this file: {missing_cols}\")\n",
    "        \n",
    "        all_data_frames.append(df)\n",
    "        \n",
    "    except Exception as e:\n",
    "        print(f\"  ✗ Error reading {file_path.name}: {e}\")\n",
    "        # Try to read without usecols to see what columns are available\n",
    "        try:\n",
    "            test_df = pd.read_csv(file_path, nrows=1)\n",
    "            available_cols = set(test_df.columns)\n",
    "            selected_cols_set = set(selected_columns)\n",
    "            print(f\"  Available columns: {len(available_cols)}\")\n",
    "            print(f\"  Missing selected columns: {selected_cols_set - available_cols}\")\n",
    "        except Exception as e2:\n",
    "            print(f\"  Could not read file to check columns: {e2}\")"
   ]
  },
  {
   "cell_type": "code",
   "execution_count": 51,
   "id": "1f5d020c",
   "metadata": {},
   "outputs": [],
   "source": [
    "# Combine all dataframes\n",
    "if all_data_frames:\n",
    "    print(\"\\nCombining all dataframes...\")\n",
    "    consolidated_df = pd.concat(all_data_frames, ignore_index=True)\n",
    "    print(f\"✓ Consolidated dataset shape: {consolidated_df.shape}\")\n",
    "    \n",
    "    # Display basic info about the dataset\n",
    "    print(\"\\nDataset overview:\")\n",
    "    print(f\"Total rows: {len(consolidated_df):,}\")\n",
    "    print(f\"Total columns: {len(consolidated_df.columns)}\")\n",
    "    \n",
    "    # Check for missing columns in final dataset\n",
    "    final_cols = set(consolidated_df.columns)\n",
    "    missing_final_cols = set(selected_columns) - final_cols\n",
    "    if missing_final_cols:\n",
    "        print(f\"⚠ Columns not found in any file: {missing_final_cols}\")\n",
    "    \n",
    "    # Check for missing values\n",
    "    print(\"\\nMissing values per column:\")\n",
    "    missing_values = consolidated_df.isnull().sum()\n",
    "    for col in selected_columns:\n",
    "        if col in consolidated_df.columns:\n",
    "            missing_count = missing_values[col]\n",
    "            if missing_count > 0:\n",
    "                print(f\"  {col}: {missing_count:,} missing values ({missing_count/len(consolidated_df)*100:.2f}%)\")"
   ]
  }
 ],
 "metadata": {
  "kernelspec": {
   "display_name": "base",
   "language": "python",
   "name": "python3"
  },
  "language_info": {
   "codemirror_mode": {
    "name": "ipython",
    "version": 3
   },
   "file_extension": ".py",
   "mimetype": "text/x-python",
   "name": "python",
   "nbconvert_exporter": "python",
   "pygments_lexer": "ipython3",
   "version": "3.12.2"
  }
 },
 "nbformat": 4,
 "nbformat_minor": 5
}
