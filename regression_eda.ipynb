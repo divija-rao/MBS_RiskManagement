{
 "cells": [
  {
   "cell_type": "code",
   "execution_count": 1,
   "id": "61e2fb3a",
   "metadata": {},
   "outputs": [],
   "source": [
    "import pandas as pd\n",
    "import matplotlib.pyplot as plt\n",
    "import seaborn as sns"
   ]
  },
  {
   "cell_type": "code",
   "execution_count": 2,
   "id": "92a3544f",
   "metadata": {},
   "outputs": [],
   "source": [
    "# Load the data\n",
    "data = pd.read_csv('/Users/dr/Documents/GitHub/MBS_RiskManagement/logistic_regression_data.csv')"
   ]
  },
  {
   "cell_type": "code",
   "execution_count": 6,
   "id": "84c426b7",
   "metadata": {},
   "outputs": [
    {
     "name": "stdout",
     "output_type": "stream",
     "text": [
      "Dataset Info:\n",
      "<class 'pandas.core.frame.DataFrame'>\n",
      "RangeIndex: 8307560 entries, 0 to 8307559\n",
      "Data columns (total 18 columns):\n",
      " #   Column                                  Dtype  \n",
      "---  ------                                  -----  \n",
      " 0   Loan Sequence Number                    object \n",
      " 1   Credit Score                            int64  \n",
      " 2   Original Combined Loan-to-Value (CLTV)  int64  \n",
      " 3   Original Loan-to-Value (LTV)            int64  \n",
      " 4   Original Debt-to-Income (DTI) Ratio     int64  \n",
      " 5   Original Interest Rate                  float64\n",
      " 6   Original Loan Term                      int64  \n",
      " 7   Number of Borrowers                     int64  \n",
      " 8   Property State                          object \n",
      " 9   Occupancy Status                        object \n",
      " 10  Loan Age                                int64  \n",
      " 11  Remaining Months to Legal Maturity      int64  \n",
      " 12  Current Actual UPB                      float64\n",
      " 13  Current Interest Rate                   float64\n",
      " 14  Current Loan Delinquency Status         float64\n",
      " 15  First Payment Date                      object \n",
      " 16  Maturity Date                           object \n",
      " 17  Default                                 int64  \n",
      "dtypes: float64(4), int64(9), object(5)\n",
      "memory usage: 1.1+ GB\n",
      "None\n"
     ]
    }
   ],
   "source": [
    "print(\"Dataset Info:\")\n",
    "print(data.info())"
   ]
  },
  {
   "cell_type": "code",
   "execution_count": 8,
   "id": "99dee6de",
   "metadata": {},
   "outputs": [
    {
     "name": "stdout",
     "output_type": "stream",
     "text": [
      "       Credit Score  Original Combined Loan-to-Value (CLTV)  \\\n",
      "count  8.307560e+06                            8.307560e+06   \n",
      "mean   7.549624e+02                            7.524411e+01   \n",
      "std    1.746862e+02                            1.964885e+01   \n",
      "min    3.000000e+02                            2.000000e+00   \n",
      "25%    7.230000e+02                            6.500000e+01   \n",
      "50%    7.620000e+02                            8.000000e+01   \n",
      "75%    7.880000e+02                            9.000000e+01   \n",
      "max    9.999000e+03                            2.370000e+02   \n",
      "\n",
      "       Original Loan-to-Value (LTV)  Original Debt-to-Income (DTI) Ratio  \\\n",
      "count                  8.307560e+06                         8.307560e+06   \n",
      "mean                   7.500677e+01                         3.790072e+01   \n",
      "std                    1.950358e+01                         9.962138e+00   \n",
      "min                    2.000000e+00                         1.000000e+00   \n",
      "25%                    6.500000e+01                         3.200000e+01   \n",
      "50%                    8.000000e+01                         4.000000e+01   \n",
      "75%                    9.000000e+01                         4.500000e+01   \n",
      "max                    2.370000e+02                         9.990000e+02   \n",
      "\n",
      "       Original Interest Rate  Original Loan Term  Number of Borrowers  \\\n",
      "count            8.307560e+06        8.307560e+06         8.307560e+06   \n",
      "mean             6.730574e+00        3.488261e+02         1.477889e+00   \n",
      "std              5.793458e-01        4.269579e+01         5.411428e-01   \n",
      "min              2.250000e+00        8.500000e+01         1.000000e+00   \n",
      "25%              6.375000e+00        3.600000e+02         1.000000e+00   \n",
      "50%              6.750000e+00        3.600000e+02         1.000000e+00   \n",
      "75%              7.125000e+00        3.600000e+02         2.000000e+00   \n",
      "max              9.250000e+00        3.660000e+02         5.000000e+00   \n",
      "\n",
      "           Loan Age  Remaining Months to Legal Maturity  Current Actual UPB  \\\n",
      "count  8.307560e+06                        8.307560e+06        8.307560e+06   \n",
      "mean   4.209584e+00                        3.446169e+02        3.282424e+05   \n",
      "std    3.226954e+00                        4.276855e+01        1.876429e+05   \n",
      "min    0.000000e+00                        7.200000e+01        0.000000e+00   \n",
      "25%    2.000000e+00                        3.530000e+02        1.870000e+05   \n",
      "50%    4.000000e+00                        3.560000e+02        2.922717e+05   \n",
      "75%    6.000000e+00                        3.580000e+02        4.370000e+05   \n",
      "max    1.400000e+01                        4.800000e+02        2.212000e+06   \n",
      "\n",
      "       Current Interest Rate  Current Loan Delinquency Status       Default  \n",
      "count           8.307560e+06                     8.307531e+06  8.307560e+06  \n",
      "mean            6.730573e+00                     1.131323e-02  6.911897e-03  \n",
      "std             5.793449e-01                     1.766430e-01  8.285001e-02  \n",
      "min             2.250000e+00                     0.000000e+00  0.000000e+00  \n",
      "25%             6.375000e+00                     0.000000e+00  0.000000e+00  \n",
      "50%             6.750000e+00                     0.000000e+00  0.000000e+00  \n",
      "75%             7.125000e+00                     0.000000e+00  0.000000e+00  \n",
      "max             9.250000e+00                     1.300000e+01  1.000000e+00  \n"
     ]
    }
   ],
   "source": [
    "print(data.describe())"
   ]
  },
  {
   "cell_type": "code",
   "execution_count": 9,
   "id": "fc540ec9",
   "metadata": {},
   "outputs": [
    {
     "name": "stdout",
     "output_type": "stream",
     "text": [
      "Missing values per column:\n",
      " Current Loan Delinquency Status    29\n",
      "dtype: int64\n"
     ]
    }
   ],
   "source": [
    "missing = data.isnull().sum()\n",
    "print(\"Missing values per column:\\n\", missing[missing > 0])"
   ]
  }
 ],
 "metadata": {
  "kernelspec": {
   "display_name": "base",
   "language": "python",
   "name": "python3"
  },
  "language_info": {
   "codemirror_mode": {
    "name": "ipython",
    "version": 3
   },
   "file_extension": ".py",
   "mimetype": "text/x-python",
   "name": "python",
   "nbconvert_exporter": "python",
   "pygments_lexer": "ipython3",
   "version": "3.12.2"
  }
 },
 "nbformat": 4,
 "nbformat_minor": 5
}
