{
 "cells": [
  {
   "cell_type": "code",
   "execution_count": 1,
   "id": "599ec08b",
   "metadata": {},
   "outputs": [],
   "source": [
    "import pandas as pd\n",
    "import zipfile\n",
    "import os\n",
    "from datetime import datetime"
   ]
  },
  {
   "cell_type": "code",
   "execution_count": 14,
   "id": "80727717",
   "metadata": {},
   "outputs": [],
   "source": [
    "# Directory where the zip files are located\n",
    "data_dir = '/Users/dr/Documents/GitHub/MBS_RiskManagement/data/'\n",
    "output_dir = '/Users/dr/Documents/GitHub/MBS_RiskManagement/extracted_data/'"
   ]
  },
  {
   "cell_type": "code",
   "execution_count": null,
   "id": "30089f73",
   "metadata": {},
   "outputs": [],
   "source": [
    "# Create output directory if it doesn't exist\n",
    "os.makedirs(output_dir, exist_ok=True)"
   ]
  },
  {
   "cell_type": "code",
   "execution_count": null,
   "id": "671013ff",
   "metadata": {},
   "outputs": [],
   "source": [
    "# Function to read data from unzipped folder\n",
    "def read_unzipped_data(folder_path, main_file_pattern='historical_data_*.txt', time_file_pattern='historical_data_time_*.txt'):\n",
    "    main_files = [f for f in os.listdir(folder_path) if os.path.isfile(os.path.join(folder_path, f)) and main_file_pattern in f]\n",
    "    time_files = [f for f in os.listdir(folder_path) if os.path.isfile(os.path.join(folder_path, f)) and time_file_pattern in f]\n",
    "    \n",
    "    # Extract Main File (historical_data_YYYYQn.txt)\n",
    "    if main_files:\n",
    "        main_file = os.path.join(folder_path, main_files[0])\n",
    "        main_df = pd.read_csv(main_file, low_memory=False, encoding='utf-8')\n",
    "        print(f\"Read: {main_file}\")\n",
    "    else:\n",
    "        main_df = pd.DataFrame() # Empty DataFrame if no main file found\n",
    "        print(f\"No main file found in {folder_path}\")\n",
    "\n",
    "    # Extract Time File (historical_data_time_YYYYQn.txt)\n",
    "    if time_files:\n",
    "        time_file = os.path.join(folder_path, time_files[0])\n",
    "        time_df = pd.read_csv(time_file, low_memory=False, encoding='utf-8')\n",
    "        print(f\"Read: {time_file}\")\n",
    "    else:\n",
    "        time_df = pd.DataFrame() # Empty DataFrame if no time file found\n",
    "        print(f\"No time file found in {folder_path}\")\n",
    "\n",
    "    return main_df, time_df"
   ]
  },
  {
   "cell_type": "code",
   "execution_count": 11,
   "id": "2106a7f7",
   "metadata": {},
   "outputs": [],
   "source": [
    "# Function to extract and read data from zip files\n",
    "def extract_and_read_zip(zip_path, main_file_pattern='historical_data_*.txt', time_file_pattern='historical_data_time_*.txt'):\n",
    "    with zipfile.ZipFile(zip_path, 'r') as zip_ref:\n",
    "        # Extract Main File (historical_data_YYYYQn.txt)\n",
    "        main_files = [f for f in zip_ref.namelist() if main_file_pattern in f]\n",
    "        if main_files:\n",
    "            main_file = main_files[0]\n",
    "            zip_ref.extract(main_file, output_dir)\n",
    "            main_df = pd.read_csv(os.path.join(output_dir, main_file), low_memory=False, encoding='utf-8')\n",
    "            print(f\"Extracted and read: {main_file}\")\n",
    "        else:\n",
    "            main_df = pd.DataFrame() #Empty DataFrame if no main file found\n",
    "            print(f\"No main file found in {zip_path}\")\n",
    "\n",
    "\n",
    "        # Extract Time File (historical_data_time_YYYYQn.txt)\n",
    "        time_files = [f for f in zip_ref.namelist() if time_file_pattern in f]\n",
    "        if time_files:\n",
    "            time_file = time_files[0]\n",
    "            zip_ref.extract(time_file, output_dir)\n",
    "            time_df = pd.read_csv(os.path.join(output_dir, time_file), low_memory=False, encoding='utf-8')\n",
    "            print(f\"Extracted and read: {time_file}\")\n",
    "        else:\n",
    "            time_df = pd.DataFrame() #Empty DataFrame if no time file found\n",
    "            print(f\"No time file found in {zip_path}\")\n",
    "\n",
    "    return main_df, time_df"
   ]
  },
  {
   "cell_type": "code",
   "execution_count": 17,
   "id": "e6093d69",
   "metadata": {},
   "outputs": [
    {
     "name": "stdout",
     "output_type": "stream",
     "text": [
      "No main file found in /Users/dr/Documents/GitHub/MBS_RiskManagement/data/historical_data_2011Q2\n",
      "No time file found in /Users/dr/Documents/GitHub/MBS_RiskManagement/data/historical_data_2011Q2\n"
     ]
    }
   ],
   "source": [
    "# Process a specific file\n",
    "quarter_folder = 'historical_data_2011Q2'\n",
    "folder_path = os.path.join(data_dir, quarter_folder)\n",
    "if os.path.exists(folder_path) and os.path.isdir(folder_path):\n",
    "    main_df, time_df = read_unzipped_data(folder_path)\n",
    "else:\n",
    "    print(f\"Folder not found: {folder_path}\")"
   ]
  }
 ],
 "metadata": {
  "kernelspec": {
   "display_name": "base",
   "language": "python",
   "name": "python3"
  },
  "language_info": {
   "codemirror_mode": {
    "name": "ipython",
    "version": 3
   },
   "file_extension": ".py",
   "mimetype": "text/x-python",
   "name": "python",
   "nbconvert_exporter": "python",
   "pygments_lexer": "ipython3",
   "version": "3.12.2"
  }
 },
 "nbformat": 4,
 "nbformat_minor": 5
}
